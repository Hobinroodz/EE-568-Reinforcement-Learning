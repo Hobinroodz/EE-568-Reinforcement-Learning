{
 "cells": [
  {
   "cell_type": "markdown",
   "id": "c869bafb",
   "metadata": {
    "ExecuteTime": {
     "end_time": "2023-03-14T00:56:45.145563Z",
     "start_time": "2023-03-14T00:56:42.879564Z"
    }
   },
   "source": [
    "# Exercise 1 for the class EE-568 Theory and Methods of Reinforcement Learning taught at EPFL in Spring 2024 by Prof. Volkan Cevher"
   ]
  },
  {
   "cell_type": "code",
   "execution_count": 1,
   "id": "8921d51d",
   "metadata": {},
   "outputs": [],
   "source": [
    "import os\n",
    "from typing import List\n",
    "\n",
    "import numpy as np\n",
    "\n",
    "os.environ[\"KMP_DUPLICATE_LIB_OK\"] = \"True\"\n",
    "import sys\n",
    "\n",
    "sys.path.insert(0, \"src/\")\n",
    "from environment import GridWorldEnvironment\n",
    "from MDPsolver import MDPsolver\n",
    "from plot import plot_log_lines, plot_lines\n",
    "\n",
    "%load_ext autoreload\n",
    "%autoreload 2"
   ]
  },
  {
   "cell_type": "markdown",
   "id": "284733c0",
   "metadata": {},
   "source": [
    "# Dynamic Programming exercise"
   ]
  },
  {
   "cell_type": "markdown",
   "id": "24373bdd",
   "metadata": {},
   "source": [
    "We will make use of the operators introduced in the slides of lectures 1 and 2. \n",
    "$(T V)(s)$, $\\mathcal{G}$ and $T^{\\pi}$\n",
    "\n",
    "Before diving into the implementation of Value Iteration or Policy Iteration, we instantiate an environment using the library in the foilder `src`."
   ]
  },
  {
   "cell_type": "markdown",
   "id": "56a7da04",
   "metadata": {},
   "source": [
    "The gridworld environment is instantiated via the class `GridWorldEnvironment`. It takes 4 input values:\n",
    "\n",
    "- `reward_mode` : integer between 0 and 3 for different reward profiles\n",
    "- `size`: Gridworld size\n",
    "- `prop`: probability assigned to the event that the agent do not follow the chosen action but another one selected uniformely at random.\n",
    "- `gamma`: the discount factor of the environment."
   ]
  },
  {
   "cell_type": "code",
   "execution_count": 2,
   "id": "b61c70d2",
   "metadata": {
    "ExecuteTime": {
     "end_time": "2023-03-14T00:56:45.302563Z",
     "start_time": "2023-03-14T00:56:45.148567Z"
    }
   },
   "outputs": [],
   "source": [
    "reward_mode = 2  # put an image to show which is the reward\n",
    "size = 10\n",
    "prop = 0\n",
    "gamma = 0.99  # rename discount_factor\n",
    "gridworld = GridWorldEnvironment(reward_mode, size, prop=0, gamma=gamma)"
   ]
  },
  {
   "cell_type": "markdown",
   "id": "3a204d2f",
   "metadata": {},
   "source": [
    "Below, we illustrate how to access the gridworld environment, i.e. how to access the reward, the transition matrix and the discount factor."
   ]
  },
  {
   "cell_type": "code",
   "execution_count": 3,
   "id": "6bea31a5",
   "metadata": {
    "ExecuteTime": {
     "end_time": "2023-03-14T00:56:45.429564Z",
     "start_time": "2023-03-14T00:56:45.303598Z"
    }
   },
   "outputs": [],
   "source": [
    "size = 3\n",
    "gridworld_example = GridWorldEnvironment(reward_mode, size, prop=0, gamma=gamma)"
   ]
  },
  {
   "cell_type": "markdown",
   "id": "875607fb",
   "metadata": {},
   "source": [
    "***Interface with a Gridworld instance***\n",
    "- `print(gridworld.n_states)` #return the number of states\n",
    "- `print(gridworld.n_actions)` #return the number of actions\n",
    "- `print(gridworld.r)` #return a matrix where each element indicates the reward corresponding to each (state, action) pair.\n",
    "- `print(gridworld.gamma)` # return the discount factor\n",
    "- `print(gridworld.sparseT[action])` #Input: action, Return: a matrix containing the state-to-state transition probabilities for the action passed as input.\n",
    "\n"
   ]
  },
  {
   "cell_type": "markdown",
   "id": "88945c56",
   "metadata": {},
   "source": [
    "<img src=\"src/vis_gridworld.png\" alt=\"fishy\" class=\"bg-primary\" width=\"400px\">"
   ]
  },
  {
   "cell_type": "markdown",
   "id": "99553e09",
   "metadata": {},
   "source": [
    "Then we set up the solver object that will implement the routine needed to evaluate the value of the produced policies"
   ]
  },
  {
   "cell_type": "code",
   "execution_count": 4,
   "id": "4a8aea9b",
   "metadata": {
    "ExecuteTime": {
     "end_time": "2023-03-14T00:56:45.570566Z",
     "start_time": "2023-03-14T00:56:45.431568Z"
    }
   },
   "outputs": [],
   "source": [
    "solver = MDPsolver(gridworld)"
   ]
  },
  {
   "cell_type": "markdown",
   "id": "5d5bd704",
   "metadata": {},
   "source": [
    "We will use this solver to compute the optimal value function to measure the suboptimality of the policies produced by value iteration or policy iteration.\n",
    "\n",
    "To access the optimal value function use `solver.v`."
   ]
  },
  {
   "cell_type": "code",
   "execution_count": 5,
   "id": "48b77426",
   "metadata": {
    "ExecuteTime": {
     "end_time": "2023-03-14T00:56:45.681600Z",
     "start_time": "2023-03-14T00:56:45.571564Z"
    }
   },
   "outputs": [],
   "source": [
    "solver.value_iteration()\n",
    "# print(solver.v)"
   ]
  },
  {
   "cell_type": "markdown",
   "id": "b20dbd17",
   "metadata": {},
   "source": [
    "## Ex 1: Value Iteration [25 pts.]"
   ]
  },
  {
   "cell_type": "markdown",
   "id": "b7d9a1d4",
   "metadata": {},
   "source": [
    "\n",
    "### 1.1 Implement value iteration (Done)"
   ]
  },
  {
   "cell_type": "code",
   "execution_count": 6,
   "id": "03b8030d",
   "metadata": {
    "ExecuteTime": {
     "end_time": "2023-03-14T00:56:45.809598Z",
     "start_time": "2023-03-14T00:56:45.682600Z"
    }
   },
   "outputs": [],
   "source": [
    "def value_iteration(env, tol=1e-10):\n",
    "    \"\"\"Inplementation of value iteration, note that the implementation is based on value iteration mentioned in the lecture.\n",
    "    Args:\n",
    "        env: environment\n",
    "        tol: a scalar to dermerminate whether the algorithm convergences\n",
    "    Returns:\n",
    "        policies: policy  at each iteration (list)\n",
    "        vs: value functions at each iteration (list)\n",
    "    \"\"\"\n",
    "    policies = []\n",
    "    vs = []\n",
    "    v = np.zeros(env.n_states) # initialize value function\n",
    "    q = np.zeros((env.n_states, env.n_actions)) #initialize Q-value\n",
    "    \n",
    "    while True:\n",
    "        v_old = np.copy(v) # save a copy of value function for the convergence criterion at the step\n",
    "        for a in range(env.n_actions):\n",
    "            #reward = env.r[:, a]  # Get immediate rewards for all states taking action `a`\n",
    "            # Transition probability matrix for action `a`\n",
    "            P_a = env.sparseT[a].toarray()  # Shape: (n_states, n_states)\n",
    "             # Compute expected future Q-values using matrix multiplication\n",
    "            expected_future_q = np.dot(P_a,np.max(q, axis=1)) # Matrix-vector product\n",
    "            q[:, a] = env.r[:, a] + env.gamma*expected_future_q # calculate Q-value\n",
    "        v = np.max(q,axis=1) # update value function\n",
    "        policies.append(np.argmax(q,axis=1)) # obtain policy\n",
    "        vs.append(v)\n",
    "        if np.linalg.norm(v - v_old) < tol: # convergence criterion\n",
    "            break\n",
    "    return policies, vs"
   ]
  },
  {
   "cell_type": "code",
   "execution_count": 7,
   "id": "a39f557a",
   "metadata": {
    "ExecuteTime": {
     "end_time": "2023-03-14T00:56:45.936564Z",
     "start_time": "2023-03-14T00:56:45.810566Z"
    }
   },
   "outputs": [],
   "source": [
    "policies, vs = value_iteration(gridworld)"
   ]
  },
  {
   "cell_type": "markdown",
   "id": "88fd23d2",
   "metadata": {},
   "source": [
    "### 1.2: Evaluate the extracted policies (Done)"
   ]
  },
  {
   "cell_type": "markdown",
   "id": "db59f231",
   "metadata": {},
   "source": [
    "For the evaluation of the sequence of policies, i.e. computing $V^\\pi$ for each policy $\\pi$ we recall that $V^\\pi$ is the fixed point $V^\\pi = T^\\pi (V^\\pi)$.\n",
    "In the following code, we ask you to apply the operator $T^\\pi$ a number of time sufficient to find a value $V$ such that $ || T^\\pi(V) - V || \\leq \\mathrm{tol}$"
   ]
  },
  {
   "cell_type": "code",
   "execution_count": 8,
   "id": "4407d9b2",
   "metadata": {
    "ExecuteTime": {
     "end_time": "2023-03-14T00:56:46.078567Z",
     "start_time": "2023-03-14T00:56:45.937566Z"
    }
   },
   "outputs": [],
   "source": [
    "def evaluate_policy_sequence(policies, env, tol=1e-10):\n",
    "    \"\"\"Inplementation of policy evaluation through iteratively applying policy value iteration \n",
    "    Args:\n",
    "        policies: a list of policies obtained by section 1.1\n",
    "        env: environment\n",
    "        tol: a scalar to dermerminate whether the policy evaluation convergences\n",
    "    Returns:\n",
    "        values: a list of value function for each policy\n",
    "    \"\"\"\n",
    "    values = []\n",
    "    for pi in policies:\n",
    "        v = np.zeros(env.n_states) # initialize value function\n",
    "        q = np.zeros((env.n_states, env.n_actions)) #initialize Q-value\n",
    "        while True:\n",
    "            v_old = np.copy(v) # save a copy of value function for the convergence criterion at the step\n",
    "            for a in range(env.n_actions):\n",
    "                #reward = env.r[:, a]  # Get immediate rewards for all states taking action `a`\n",
    "                # Transition probability matrix for action `a`\n",
    "                P_a = env.sparseT[a].toarray()  # Shape: (n_states, n_states)\n",
    "                \n",
    "                q[:, a] = env.r[:, a] + env.gamma * np.dot(P_a,v) #calculate Q-value\n",
    "            for s in range(env.n_states):\n",
    "                action_taken = pi[s] # obtain the action determined by the policy\n",
    "                v[s] = q[s,action_taken] #calculate value function by $v(s) = Q(s,pi(s))$\n",
    "            if np.linalg.norm(v - v_old) < tol: # convergence criterion\n",
    "                break\n",
    "        values.append(v)\n",
    "    return values"
   ]
  },
  {
   "cell_type": "code",
   "execution_count": 9,
   "id": "87b7f040",
   "metadata": {
    "ExecuteTime": {
     "end_time": "2023-03-14T00:56:48.241600Z",
     "start_time": "2023-03-14T00:56:46.083566Z"
    }
   },
   "outputs": [],
   "source": [
    "values = evaluate_policy_sequence(policies, gridworld)"
   ]
  },
  {
   "cell_type": "markdown",
   "id": "a331466c",
   "metadata": {},
   "source": [
    "### 1.3: Plot the results (Done)"
   ]
  },
  {
   "cell_type": "markdown",
   "id": "3fcf9844",
   "metadata": {},
   "source": [
    "Plot using the method ```plot_lines(list_to_plot, list_name, axis_label, folder, title, x_axis = None, show = False) ```\n",
    "\n",
    "Compute both the iterates $V_t$ produced by value iteration and the value function achieved by the extracted policies $V^{\\pi_t}$ with $\\pi_t = \\mathcal{G}(V_t)$. What do you observe ?\n"
   ]
  },
  {
   "cell_type": "markdown",
   "id": "56bd6079",
   "metadata": {},
   "source": [
    "#### **Observations on Value Iteration vs. Extracted Policy Evaluation**\n",
    "\n",
    "For **Value Iteration**, one can observe that **suboptimality decreases significantly after just one iteration**. This is because Value Iteration **immediately incorporates information from future rewards**, making large improvements early on. After this initial rapid drop, the suboptimality **smoothly and steadily converges** to the optimal value function \\( V* \\).\n",
    "\n",
    "In contrast, for $V^{\\pi_t}$ (the value function of the extracted policies), **the convergence happens in discrete steps**. This occurs because each policy $ \\pi_t $ is extracted from $ V_t $ and then evaluated separately, meaning that **it takes longer to fully catch up to the optimal policy**. However, as iterations progress, $V^{\\pi_t}$ **steadily converges to \\( V\\* \\)**.\n",
    "Also the computation of $V^{\\pi_t}$ took longer time, so it has higher computational complexity.\n",
    "\n",
    "##### **Conclusion**\n",
    "During the **first iterations**, **\\( V_t \\) outperforms $V^{\\pi_t}$** because Value Iteration directly updates the value function using Bellman's optimality principle, while $V^{\\pi_t}$ follows a **fixed policy** at each step and only gradually improves.\n",
    "\"\"\"\n"
   ]
  },
  {
   "cell_type": "code",
   "execution_count": 10,
   "id": "03a72635",
   "metadata": {
    "ExecuteTime": {
     "end_time": "2023-03-14T00:56:48.384121Z",
     "start_time": "2023-03-14T00:56:48.244565Z"
    }
   },
   "outputs": [],
   "source": [
    "def compute_subopt(values, v_star):\n",
    "    \"\"\"\n",
    "    Args:\n",
    "        values: a list of value function.\n",
    "        v_star: the optimal value function obtained by MDP.solver\n",
    "    Returns:\n",
    "        subopts: an array indicates the suboptimality.\n",
    "    \"\"\"\n",
    "    subopts = []\n",
    "    for v in values:\n",
    "        i = np.argmax(np.abs(v - v_star))\n",
    "        subopts.append(-v[i] + v_star[i])\n",
    "    return np.array(subopts)"
   ]
  },
  {
   "cell_type": "code",
   "execution_count": 11,
   "id": "714046c3",
   "metadata": {
    "ExecuteTime": {
     "end_time": "2023-03-14T00:56:48.969703Z",
     "start_time": "2023-03-14T00:56:48.386122Z"
    }
   },
   "outputs": [
    {
     "data": {
      "image/png": "[encoded data removed]",
      "text/plain": [
       "<Figure size 800x550 with 1 Axes>"
      ]
     },
     "metadata": {},
     "output_type": "display_data"
    }
   ],
   "source": [
    "plot_lines(\n",
    "    [compute_subopt(vs, solver.v)],\n",
    "    [r\"Subopt of $V^t$\"],\n",
    "    [\"Iteration\", \"Subopt\"],\n",
    "    \"figs\",\n",
    "    \"VI.pdf\",\n",
    "    show=True,\n",
    ")\n"
   ]
  },
  {
   "cell_type": "code",
   "execution_count": 12,
   "id": "514d0662",
   "metadata": {
    "ExecuteTime": {
     "end_time": "2023-03-14T00:56:49.239768Z",
     "start_time": "2023-03-14T00:56:48.970703Z"
    }
   },
   "outputs": [
    {
     "data": {
      "image/png": "[encoded data removed]",
      "text/plain": [
       "<Figure size 800x550 with 1 Axes>"
      ]
     },
     "metadata": {},
     "output_type": "display_data"
    }
   ],
   "source": [
    "plot_lines(\n",
    "    [compute_subopt(values, solver.v)],\n",
    "    [\"Subopt of $V^{\\pi_t}$\"],\n",
    "    [\"Iteration\", \"Subopt\"],\n",
    "    \"figs\",\n",
    "    \"VI.pdf\",\n",
    "    show=True,\n",
    ")"
   ]
  },
  {
   "cell_type": "code",
   "execution_count": 13,
   "id": "bdd6b924",
   "metadata": {
    "ExecuteTime": {
     "end_time": "2023-03-14T00:56:49.747688Z",
     "start_time": "2023-03-14T00:56:49.240768Z"
    }
   },
   "outputs": [
    {
     "data": {
      "image/png": "[encoded data removed]",
      "text/plain": [
       "<Figure size 800x550 with 1 Axes>"
      ]
     },
     "metadata": {},
     "output_type": "display_data"
    }
   ],
   "source": [
    "plot_log_lines(\n",
    "    [-compute_subopt(vs, solver.v), compute_subopt(values, solver.v)],\n",
    "    [r\"Subopt of $V^t$\", \"Subopt of $V^{\\pi_t}$\"],\n",
    "    [\"Iteration\", \"Subopt\"],\n",
    "    \"figs\",\n",
    "    \"VI.pdf\",\n",
    "    show=True,\n",
    ")"
   ]
  },
  {
   "cell_type": "markdown",
   "id": "a424696f",
   "metadata": {},
   "source": [
    "To better appreciate the difference in the convergence plot use log scale."
   ]
  },
  {
   "cell_type": "markdown",
   "id": "49ddd875",
   "metadata": {},
   "source": [
    "**Question** : \n",
    "- Prove that $T$ is a contraction, that is $|| T(V) - T(V') ||_{\\infty} \\leq \\gamma || V - V' ||_{\\infty}$.\n",
    "- Why the iterates of Value Iterations are an upper bound to $V^\\star$ ? How is this possible considering that $V^\\star \\triangleq \\max_{\\pi \\in \\Pi} V^{\\pi}$ ?"
   ]
  },
  {
   "cell_type": "markdown",
   "id": "706ce2d7",
   "metadata": {},
   "source": [
    "## **Answers**\n",
    "##### **Proof** (like shown in the lecture)\n",
    "For any $V', V \\in \\mathbb{R}^{|S|}$ and $s \\in S$, we have:\n",
    "\n",
    "\n",
    "$$\n",
    "\\left| (T V')(s) - (T V)(s) \\right|\n",
    "$$\n",
    "\n",
    "$$\n",
    "= \\left| \\max_{a \\in A} \\left[ r(s, a) + \\gamma \\sum_{s' \\in S} P(s' | s, a) V'(s') \\right] - \\max_{a' \\in A} \\left[ r(s, a') + \\gamma \\sum_{s' \\in S} P(s' | s, a') V(s') \\right] \\right|\n",
    "$$\n",
    "\n",
    "$$\n",
    "\\leq \\max_{a \\in A} \\left( r(s, a) + \\gamma \\sum_{s' \\in S} P(s' | s, a) V'(s') \\right) - \\left( r(s, a) + \\gamma \\sum_{s' \\in S} P(s' | s, a) V(s') \\right)\n",
    "$$\n",
    "\n",
    "$$\n",
    "\\leq \\max_{a \\in A} \\gamma \\sum_{s' \\in S} P(s' | s, a) |V'(s') - V(s')|\n",
    "$$\n",
    "since V is independant of a we have that :\n",
    "$$\n",
    "\\leq ||V' - V||_{\\infty} \\max_{a \\in A} \\gamma \\sum_{s' \\in S} P(s' | s, a) = \\gamma ||V' - V||_{\\infty}\n",
    "$$\n",
    "\n",
    "which concludes the proof.\n",
    "\n",
    "\n",
    "##### Why Can Value Iteration Iterates Be An Upper Bound to $V^*$?\n",
    "\n",
    "1. **$V^*$ is the Best Among All Policy-Based Values**  \n",
    "   By definition, \n",
    "   $$\n",
    "   V^*(s) = \\max_{\\pi} V^\\pi(s),\n",
    "   $$\n",
    "   which means $V^*$ is the highest value function you can get if you **commit** to a single policy.\n",
    "\n",
    "2. **Value Iteration Does Not Stick to a Single Policy**  \n",
    "   During Value Iteration, each iteration picks the $\\max_a$ **per state**, independently of the choices made in other states. This is different from a fixed policy, which uses **the same action** choice every time you revisit a state.\n",
    "\n",
    "3. **Overestimations Occur**  \n",
    "   Because Value Iteration always uses the $\\max_a$ update, it can “pretend” it will do the best action in every future step, *even if* a single policy could never be that good in *all* states at once. As a result, $V_t(s)$ can be larger than $V^*(s)$ for some states.\n",
    "\n",
    "4. **Convergence and Correction**  \n",
    "   As the algorithm iterates, these “over-optimistic” values get corrected. Eventually, $V_t$ **converges from above** to the true optimal value $V^*$.\n",
    "\n",
    "Hence there is **no contradiction** between:\n",
    "- $V^* = \\max_{\\pi} V^\\pi$ (the best *policy-based* value function), and\n",
    "- $V_t \\geq V^*$ (intermediate Value Iteration steps can exceed $V^*$).\n",
    "\n",
    "They're talking about **two different ways** of estimating state values: \n",
    "- One is from *full policies*,(the policy determines the best (a1,a2,...,a_n) tuple overall since the start, and not 1 by 1) \n",
    "- the other is from *max-immediate-action updates at each iteration*.\n",
    "\n",
    "**Value Iteration** uses that second approach until it finally settles on $V^*$, which *does* come from an optimal policy.\n"
   ]
  },
  {
   "cell_type": "markdown",
   "id": "9855f75c",
   "metadata": {},
   "source": [
    "# Ex 2: Policy Iteration [25 pts.]"
   ]
  },
  {
   "cell_type": "code",
   "execution_count": 14,
   "id": "5f785a42",
   "metadata": {
    "ExecuteTime": {
     "end_time": "2023-03-14T00:56:49.875724Z",
     "start_time": "2023-03-14T00:56:49.749686Z"
    }
   },
   "outputs": [],
   "source": [
    "def evaluate_policy(pi, env, tol=1e-10):\n",
    "    \"\"\"Implementation of policy evaluation through iteratively applying using a certain policy\n",
    "    Args:\n",
    "        pi: a policy\n",
    "        env: environment\n",
    "        tol: a scalar to dermerminate whether the policy evaluation convergences\n",
    "    Returns:\n",
    "        v: an array with the values of the actions chosen\n",
    "        q: an array with the q values    \n",
    "    \"\"\"\n",
    "    v = np.zeros(env.n_states)\n",
    "    q = np.zeros((env.n_states, env.n_actions))\n",
    "    while True:\n",
    "        v_old = np.copy(v)\n",
    "        for a in range(env.n_actions):\n",
    "            #reward = env.r[:, a]  # Get immediate rewards for all states taking action `a`\n",
    "            # Transition probability matrix for action `a`\n",
    "            P_a = env.sparseT[a].toarray()  # Shape: (n_states, n_states)\n",
    "                \n",
    "            q[:, a] = env.r[:, a] + env.gamma * P_a @ v #calculate Q-value\n",
    "        for s in range(env.n_states):\n",
    "            chosen_action = pi[s]\n",
    "            v[s] = q[s, chosen_action]\n",
    "        if np.linalg.norm(v - v_old) < tol:\n",
    "            break\n",
    "    return v, q"
   ]
  },
  {
   "cell_type": "code",
   "execution_count": 15,
   "id": "8028d769",
   "metadata": {
    "ExecuteTime": {
     "end_time": "2023-03-14T00:56:49.987685Z",
     "start_time": "2023-03-14T00:56:49.877686Z"
    }
   },
   "outputs": [],
   "source": [
    "def get_greedy_policy(q):\n",
    "    \"\"\"Implementation of a greedy approach to choose policies (policy improvement)\n",
    "    Args:\n",
    "        q: q values obtained from evaluating the policies\n",
    "    Returns:\n",
    "        policy: greedy policy (list)\n",
    "    \"\"\"\n",
    "    policy = []\n",
    "    for s in range(q.shape[0]):\n",
    "        best_action = np.argmax(q[s])  # Choose the action with the highest Q-value\n",
    "        policy.append(best_action)\n",
    "    return policy"
   ]
  },
  {
   "cell_type": "code",
   "execution_count": 16,
   "id": "713b45cf",
   "metadata": {
    "ExecuteTime": {
     "end_time": "2023-03-14T00:56:50.126686Z",
     "start_time": "2023-03-14T00:56:49.988685Z"
    }
   },
   "outputs": [],
   "source": [
    "def policy_iteration(env, tol=1e-20):\n",
    "    \"\"\"Implementation of policy iteration\n",
    "    Args:\n",
    "        env: environment\n",
    "        tol: a scalar to dermerminate whether the algorithm convergences\n",
    "    Returns:\n",
    "        vs: value functions at each iteration (list)\n",
    "    \"\"\"\n",
    "    vs = []\n",
    "    v = np.zeros(env.n_states)\n",
    "    q = np.zeros((env.n_states, env.n_actions))\n",
    "    pi = np.zeros(env.n_states, dtype=int)\n",
    "    while True:\n",
    "        v_old = np.copy(v)\n",
    "        v, q = evaluate_policy(pi, env,tol)\n",
    "        pi = get_greedy_policy(q)\n",
    "        vs.append(v)\n",
    "        if np.linalg.norm(v - v_old) < tol:\n",
    "            break\n",
    "    return vs,pi"
   ]
  },
  {
   "cell_type": "code",
   "execution_count": 17,
   "id": "00c7756a",
   "metadata": {
    "ExecuteTime": {
     "end_time": "2023-03-14T00:56:52.159688Z",
     "start_time": "2023-03-14T00:56:50.128686Z"
    }
   },
   "outputs": [],
   "source": [
    "values_pi,_ = policy_iteration(gridworld)"
   ]
  },
  {
   "cell_type": "code",
   "execution_count": 18,
   "id": "cd691fb1",
   "metadata": {
    "ExecuteTime": {
     "end_time": "2023-03-14T00:56:52.398689Z",
     "start_time": "2023-03-14T00:56:52.160690Z"
    }
   },
   "outputs": [
    {
     "data": {
      "image/png": "[encoded data removed]",
      "text/plain": [
       "<Figure size 800x550 with 1 Axes>"
      ]
     },
     "metadata": {},
     "output_type": "display_data"
    }
   ],
   "source": [
    "plot_lines(\n",
    "    [compute_subopt(values_pi, solver.v)],\n",
    "    [\"Subopt of $V^{\\pi_t}$\"],\n",
    "    [\"Iteration\", \"Subopt\"],\n",
    "    \"figs\",\n",
    "    \"VI.pdf\",\n",
    "    show=True,\n",
    ")"
   ]
  },
  {
   "cell_type": "markdown",
   "id": "f0f59f72",
   "metadata": {},
   "source": [
    "### Compare with Value Iteration"
   ]
  },
  {
   "cell_type": "code",
   "execution_count": 19,
   "id": "ffe5e4ea",
   "metadata": {
    "ExecuteTime": {
     "end_time": "2023-03-14T00:56:52.968686Z",
     "start_time": "2023-03-14T00:56:52.399687Z"
    }
   },
   "outputs": [
    {
     "data": {
      "image/png": "[encoded data removed]",
      "text/plain": [
       "<Figure size 800x550 with 1 Axes>"
      ]
     },
     "metadata": {},
     "output_type": "display_data"
    }
   ],
   "source": [
    "plot_log_lines(\n",
    "    [compute_subopt(values, solver.v), compute_subopt(values_pi, solver.v)],\n",
    "    [\"Value Iteration\", \"Policy Iteration\"],\n",
    "    [\"Iteration\", \"Subopt\"],\n",
    "    \"figs\",\n",
    "    \"VIvsPI.pdf\",\n",
    "    show=True,\n",
    ")"
   ]
  },
  {
   "cell_type": "markdown",
   "id": "db0b2058",
   "metadata": {},
   "source": [
    "***Questions :*** \n",
    "- Which algorithm converges faster ?\n",
    "- Is it theoretically expected ? Answer listing the expected number of iterations needed for VI and PI to converge ?\n"
   ]
  },
  {
   "cell_type": "markdown",
   "id": "fd941be6",
   "metadata": {},
   "source": [
    "***Answers***"
   ]
  },
  {
   "cell_type": "markdown",
   "id": "f1a4abde",
   "metadata": {},
   "source": [
    "- The policy iteration algorithm converges faster (9 iterations for PI, around 11 for VI)\n",
    "\n",
    "- Although both algorithms may start from the same initial value function, Policy Iteration typically reaches the optimal policy in fewer iterations than Value Iteration. However, each iteration of Policy Iteration is more computationally expensive because it includes solving a system of linear equations during the policy evaluation step, whereas a single Value Iteration update is comparatively cheaper.\n",
    "1. **Value Iteration**  \n",
    "   - Converges within \n",
    "   $$\n",
    "   \\mathcal{O}\\Bigl(\\frac{\\log\\bigl(\\epsilon (1-\\gamma)\\bigr)}{\\log(\\gamma)}\\Bigr) \n",
    "   \\;=\\; \\mathcal{O}\\Bigl(5040\\Bigr)\n",
    "   $$\n",
    "\n",
    "   iterations to achieve \n",
    "   $$ \\|V_T - V^*\\|_\\infty \\le \\epsilon. $$\n",
    "   - Each iteration applies the Bellman optimality operator once for every state.\n",
    "\n",
    "2. **Policy Iteration**\n",
    "   - Converges within \n",
    "   $$ \n",
    "   \\mathcal{O}\\!\\Bigl(\\frac{|S|(|A|-1)}{(1-\\gamma)}\\Bigr)\n",
    "   \\;=\\; \\mathcal{O}\\Bigl(900\\Bigr)\n",
    "   $$ \n",
    "   - In practice, PI often needs **fewer total iterations** than VI, but each iteration may be more expensive.\n"
   ]
  },
  {
   "cell_type": "markdown",
   "id": "e597341b",
   "metadata": {},
   "source": [
    "***Theory Questions*** \n",
    "- Prove the policy improvement theorem.\n",
    "- Prove that the Bellman operator is monotone elementwise. That is if $V > V'$, then for any $\\pi$, $T_{\\pi}(V) > T_{\\pi}(V')$."
   ]
  },
  {
   "cell_type": "markdown",
   "id": "3ce2eeb4",
   "metadata": {},
   "source": [
    "***Answers***"
   ]
  },
  {
   "cell_type": "markdown",
   "id": "bbb94b14",
   "metadata": {},
   "source": [
    "## 1\n",
    "- If a (deterministic) policy $\\pi'$ satisfies that,\n",
    "\n",
    "$$\n",
    "Q^{\\pi}(s, \\pi'(s)) \\geq V^{\\pi}(s) \\quad \\forall s \\in \\mathcal{S},\n",
    "$$\n",
    "\n",
    "then $ V^{\\pi'}(s) \\geq V^{\\pi}(s) $ for any $ s \\in \\mathcal{S} $.\n",
    "\n",
    " Proof:\n",
    "\n",
    "For any $ s \\in \\mathcal{S} $, let $ s' \\sim P(\\cdot | s, \\pi'(s)) $ denote the transition under policy $\\pi'$:\n",
    "\n",
    "$$\n",
    "V^{\\pi}(s) \\leq Q^{\\pi}(s, \\pi'(s)) = \\mathbb{E}_{\\pi'} \\left[ r(s_0, \\pi'(s_0)) + \\gamma V^{\\pi}(s_1) \\mid s_0 = s \\right]\n",
    "$$\n",
    "\n",
    "Using the assumption,\n",
    "\n",
    "$$\n",
    "\\leq \\mathbb{E}_{\\pi'} \\left[ r_0 + \\gamma r_1 + \\gamma^2 r_2\\pi'(s_1)) \\mid s_0 = s \\right]\n",
    "$$\n",
    "$$\n",
    "\\leq \\mathbb{E}_{\\pi'} \\left[ r_0 + \\gamma r_1 + \\gamma V^{\\pi}(s_1) \\mid s_0 = s \\right]\n",
    "$$\n",
    "\n",
    "Applying this recursively,\n",
    "\n",
    "$$\n",
    "\\leq \\mathbb{E}_{\\pi'} \\left[ r_0 + \\gamma r_1 + \\gamma^2 r_2 + \\dots \\mid s_0 = s \\right] = V^{\\pi'}(s)\n",
    "$$\n",
    "\n",
    "Thus, we have shown that $ V^{\\pi'}(s) \\geq V^{\\pi}(s) $ for all $ s \\in \\mathcal{S} $, completing the proof.\n",
    "## 2\n",
    "- 1. **Definition of the Bellman operator under $\\pi$:**\n",
    "\n",
    "$$\n",
    "(T_{\\pi}V)(s) \\;=\\; r(s,\\pi(s)) \\;+\\; \\gamma \\sum_{s'} P\\bigl(s' \\mid s,\\pi(s)\\bigr)\\,V(s').\n",
    "$$\n",
    "\n",
    "Similarly,\n",
    "\n",
    "$$\n",
    "(T_{\\pi}V')(s) \\;=\\; r(s,\\pi(s)) \\;+\\; \\gamma \\sum_{s'} P\\bigl(s' \\mid s,\\pi(s)\\bigr)\\,V'(s').\n",
    "$$\n",
    "\n",
    "2. **Assume $V \\geq V'$ element-wise:**  \n",
    "\n",
    "By hypothesis, for every state $s'$,\n",
    "$$\n",
    "V(s') \\;\\geq\\; V'(s').\n",
    "$$\n",
    "\n",
    "3. **Apply probability weighting:**  \n",
    "\n",
    "Since the transition probabilities $P(s' \\mid s,\\pi(s))$ are nonnegative and sum to 1,\n",
    "\n",
    "$$\n",
    "\\sum_{s'} P\\bigl(s' \\mid s,\\pi(s)\\bigr)\\,V(s')\n",
    "\\;\\ge\\;\n",
    "\\sum_{s'} P\\bigl(s' \\mid s,\\pi(s)\\bigr)\\,V'(s').\n",
    "$$\n",
    "\n",
    "4. **Multiply by $\\gamma$:**  \n",
    "\n",
    "Because $0 \\le \\gamma < 1$, multiplying by $\\gamma$ preserves the inequality:\n",
    "\n",
    "$$\n",
    "\\gamma \\sum_{s'} P\\bigl(s' \\mid s,\\pi(s)\\bigr)\\,V(s')\n",
    "\\;\\ge\\;\n",
    "\\gamma \\sum_{s'} P\\bigl(s' \\mid s,\\pi(s)\\bigr)\\,V'(s').\n",
    "$$\n",
    "\n",
    "5. **Add $r(s,\\pi(s))$ to both sides:**  \n",
    "\n",
    "Adding the same immediate reward term $r(s,\\pi(s))$ to both sides also preserves the inequality:\n",
    "\n",
    "$$\n",
    "r(s,\\pi(s)) \\;+\\; \\gamma \\sum_{s'} P\\bigl(s' \\mid s,\\pi(s)\\bigr)\\,V(s')\n",
    "\\;\\ge\\;\n",
    "r(s,\\pi(s)) \\;+\\; \\gamma \\sum_{s'} P\\bigl(s' \\mid s,\\pi(s)\\bigr)\\,V'(s').\n",
    "$$\n",
    "\n",
    "6. **Conclude the monotonicity:**  \n",
    "\n",
    "Therefore,\n",
    "\n",
    "$$\n",
    "(T_{\\pi}V)(s) \\;\\ge\\; (T_{\\pi}V')(s), \\quad \\forall s,\n",
    "$$\n",
    "\n",
    "which proves **monotonicity**: $T_{\\pi}(V) \\ge T_{\\pi}(V')$ component-wise whenever $V \\ge V'$.\n"
   ]
  },
  {
   "cell_type": "markdown",
   "id": "b00d1641",
   "metadata": {},
   "source": [
    "# Ex 3: Modified Policy Iteration [25 pts.]"
   ]
  },
  {
   "cell_type": "markdown",
   "id": "69202e2f",
   "metadata": {},
   "source": [
    "In this cell you will code and run Modified Value Iteration, that follows this pseudocode:\n",
    "- $\\pi_{k+1} = \\mathcal{G}(V_k)$\n",
    "- $V_{k+1} = T^m_{\\pi_{k+1}}(V_k)$\n",
    "\n",
    "In the implementation, we will use also the variable $Q$ as in the previous implementation of VI and PI for convenience of implementation."
   ]
  },
  {
   "cell_type": "markdown",
   "id": "1ef4cefd",
   "metadata": {},
   "source": [
    "**Questions**\n",
    "\n",
    "Which value of $m$ recovers policy iteration ?\n",
    "Which value of $m$ recovers value iteration ?"
   ]
  },
  {
   "cell_type": "markdown",
   "id": "bee3dbe6",
   "metadata": {},
   "source": [
    "***Answers***"
   ]
  },
  {
   "cell_type": "markdown",
   "id": "c91df114",
   "metadata": {},
   "source": [
    "m=1 covers value iteration.\n",
    "A large m, ideally until convergence to +inf recovers Policy Iteration."
   ]
  },
  {
   "cell_type": "markdown",
   "id": "dba68c07",
   "metadata": {},
   "source": [
    "First, write a function that applies the Bellman evaluation operator $m$ times"
   ]
  },
  {
   "cell_type": "code",
   "execution_count": 20,
   "id": "39f4b211",
   "metadata": {
    "ExecuteTime": {
     "end_time": "2023-03-14T00:56:53.095723Z",
     "start_time": "2023-03-14T00:56:52.969686Z"
    }
   },
   "outputs": [],
   "source": [
    "def policy_operator_m_times(pi, m, env, v, q):\n",
    "    \"\"\"Implementation of partial policy evaluation through applying m times the Bellman operator\n",
    "    Args:\n",
    "        pi: a policy\n",
    "        env: environment\n",
    "        tol: a scalar to dermerminate whether the policy evaluation convergences\n",
    "        v: initial value vector\n",
    "        q: initial state action value vector\n",
    "    Returns:\n",
    "        v: an array with the values of the actions chosen\n",
    "        q: an array with the q values    \n",
    "    \"\"\"\n",
    "    i = 0\n",
    "    while i < m:\n",
    "        for a in range(env.n_actions):\n",
    "            P_a = env.sparseT[a].toarray() # Shape: (n_states, n_states)\n",
    "            q[:, a] = env.r[:, a] + env.gamma * P_a @ v\n",
    "        for s in range(env.n_states):\n",
    "            chosen_action = pi[s]\n",
    "            v[s] = q[s, chosen_action]\n",
    "        i = i + 1\n",
    "    return v, q        \n",
    "\n",
    "            "
   ]
  },
  {
   "cell_type": "markdown",
   "id": "740d6d8d",
   "metadata": {},
   "source": [
    "At this point, using the function `get_greedy_policy` implemented for PI you are ready to implement Modified Policy Iteration !"
   ]
  },
  {
   "cell_type": "code",
   "execution_count": 21,
   "id": "26f61e63",
   "metadata": {
    "ExecuteTime": {
     "end_time": "2023-03-14T00:56:53.220688Z",
     "start_time": "2023-03-14T00:56:53.097686Z"
    }
   },
   "outputs": [],
   "source": [
    "def modified_policy_iteration(env, m, tol=1e-10):\n",
    "    \"\"\"Implementation of modified policy iteration\n",
    "    Args:\n",
    "        env: environment\n",
    "        tol: a scalar to dermerminate whether the algorithm convergences\n",
    "    Returns:\n",
    "        vs: value functions at each iteration (list)\n",
    "    \"\"\"\n",
    "    vs = []\n",
    "    policies = []\n",
    "    v = np.zeros(env.n_states)\n",
    "    q = np.zeros((env.n_states, env.n_actions))\n",
    "    pi = np.zeros(env.n_states, dtype=int)\n",
    "    while True:\n",
    "        v_old = np.copy(v)\n",
    "        pi = get_greedy_policy(q)\n",
    "        v, q = policy_operator_m_times(pi, m, env, v, q)\n",
    "        policies.append(pi)\n",
    "        vs.append(v)\n",
    "        if np.linalg.norm(v - v_old) < tol:\n",
    "            break\n",
    "    return vs,policies"
   ]
  },
  {
   "cell_type": "markdown",
   "id": "b0c4c515",
   "metadata": {},
   "source": [
    "Now run modified policy iteration for different values of $m$ for example between $1$ and $10$. "
   ]
  },
  {
   "cell_type": "code",
   "execution_count": 22,
   "id": "fc31ccd2",
   "metadata": {
    "ExecuteTime": {
     "end_time": "2023-03-14T00:57:06.759601Z",
     "start_time": "2023-03-14T00:56:53.221722Z"
    }
   },
   "outputs": [],
   "source": [
    "m_values = [\"1\", \"2\", \"3\", \"5\", \"10\", \"20\"]\n",
    "to_plot = []\n",
    "for m in m_values:\n",
    "    m = int(m)\n",
    "    _, policies_mpi = modified_policy_iteration(gridworld, m)\n",
    "    values_mpi = evaluate_policy_sequence(policies_mpi, gridworld)\n",
    "    to_plot.append(compute_subopt(values_mpi, solver.v))"
   ]
  },
  {
   "cell_type": "code",
   "execution_count": 23,
   "id": "6d3dd3c9",
   "metadata": {
    "ExecuteTime": {
     "end_time": "2023-03-14T00:57:07.313599Z",
     "start_time": "2023-03-14T00:57:06.761599Z"
    }
   },
   "outputs": [
    {
     "data": {
      "image/png": "[encoded data removed]",
      "text/plain": [
       "<Figure size 800x550 with 1 Axes>"
      ]
     },
     "metadata": {},
     "output_type": "display_data"
    }
   ],
   "source": [
    "plot_log_lines(to_plot, m_values, [\"Iteration\", \"Subopt\"], \"figs\", \"MPI.pdf\", show=True)"
   ]
  },
  {
   "cell_type": "markdown",
   "id": "0f1064cc",
   "metadata": {},
   "source": [
    "**Questions** \n",
    "- How does the value of $m$ affect convergence ?\n",
    "- Which is the cost per iteration of Modified Policy Iteration ?\n",
    "- Which is the cost per iteration of Policy Iteration implemented with Option 2 in the slides ?"
   ]
  },
  {
   "cell_type": "markdown",
   "id": "54dbec0f",
   "metadata": {},
   "source": [
    "***Answers***"
   ]
  },
  {
   "cell_type": "markdown",
   "id": "690a0128",
   "metadata": {},
   "source": [
    "- Higher value of m result in faster convergence ( less iterations.)\n",
    "---\n",
    "## Step 1: Policy Improvement (Greedy Update)\n",
    "\n",
    "- The policy update is:\n",
    "\n",
    "  $$\n",
    "  \\pi_{k+1}(s) = \\arg\\max_a \\left[ r(s, a) + \\gamma \\sum_{s'} P(s'|s,a) V_k(s') \\right]\n",
    "  $$\n",
    "\n",
    "- This requires:\n",
    "  - Computing $Q(s,a)$ for each state-action pair.\n",
    "  - Taking the argmax over actions for each state.\n",
    "\n",
    "### Computational Cost:\n",
    "- $\\mathcal{O}(|S| \\cdot |A|)$ since for each state $s$, we compute $Q(s,a)$ for all $A$ actions.\n",
    "\n",
    "\n",
    "## Step 2: Modified Policy Evaluation (Applying Bellman Operator $m$ Times)\n",
    "\n",
    "- We update $V(s)$ using the Bellman operator $m$ times:\n",
    "\n",
    "  $$\n",
    "  V_{k+1} = \\mathcal{T}_{\\pi}^{m}(V_k)\n",
    "  $$\n",
    "\n",
    "- Each Bellman update involves:\n",
    "  - Matrix-vector multiplication:\n",
    "    $$\n",
    "    V^\\pi(s) = r(s, \\pi(s)) + \\gamma \\sum_{s'} P(s' | s, \\pi(s)) V(s').\n",
    "    $$\n",
    "  - Since the policy is fixed, each iteration effectively performs a sparse matrix-vector multiplication.\n",
    "\n",
    "### Computational Cost:\n",
    "- Each Bellman backup takes $\\mathcal{O}(|S|^2)$ for a dense transition matrix but $\\mathcal{O}(|S|)$ for a sparse transition matrix.\n",
    "- Since we apply the operator $m$ times, the total cost is:\n",
    "  - Dense Case: $\\mathcal{O}(m |S|^2)$.\n",
    "  - Sparse Case: $\\mathcal{O}(m |S|)$.\n",
    "\n",
    "\n",
    "\n",
    "## Total Cost per Iteration\n",
    "\n",
    "Adding both steps together:\n",
    "\n",
    "$$\n",
    "\\mathcal{O}(|S| \\cdot |A|) + \\mathcal{O}(m |S|^2) \\quad \\text{(Dense Case)}\n",
    "$$\n",
    "\n",
    "$$\n",
    "\\mathcal{O}(|S| \\cdot |A|) + \\mathcal{O}(m |S|) \\quad \\text{(Sparse Case)}\n",
    "$$\n",
    "\n",
    "- If $m = 1$ (Value Iteration-like), cost is close to $\\mathcal{O}(|S| \\cdot |A|)$.\n",
    "- If $m$ is large (Modified Policy Iteration), cost approaches $\\mathcal{O}(|S|^2)$ in dense settings.\n",
    "---\n",
    "## Step 1: Policy Evaluation\n",
    "\n",
    "We need to compute $V^\\pi$, which satisfies:\n",
    "\n",
    "$$\n",
    "V^\\pi = (I - \\gamma P^\\pi)^{-1} R^\\pi\n",
    "$$\n",
    "\n",
    "- **Matrix inversion dominates this step**:\n",
    "  - The transition matrix $P^\\pi$ has size $|S| \\times |S|$.\n",
    "  - Inverting this matrix takes **$\\mathcal{O}(|S|^3)$** in the worst case (for a dense system).\n",
    "  - If we use **iterative solvers** instead of direct inversion, it can be reduced, but typically remains around **$\\mathcal{O}(|S|^3)$**.\n",
    "\n",
    "Thus, **policy evaluation costs**:\n",
    "\n",
    "$$\n",
    "\\mathcal{O}(|S|^3)\n",
    "$$\n",
    "\n",
    "## Step 2: Policy Improvement\n",
    "\n",
    "Once we have $V^\\pi$, we compute the action-value function $Q^\\pi(s,a)$ and update the policy:\n",
    "\n",
    "$$\n",
    "Q^\\pi(s,a) = r(s,a) + \\gamma \\sum_{s'} P(s'|s,a) V^\\pi(s')\n",
    "$$\n",
    "\n",
    "- We must compute this for **each state-action pair** $(s,a)$.\n",
    "- This requires:\n",
    "  - $\\mathcal{O}(|S|^2 |A|)$ operations, because for each **state-action pair**, we sum over all $S$ states.\n",
    "\n",
    "Thus, **policy improvement costs**:\n",
    "\n",
    "$$\n",
    "\\mathcal{O}(|S|^2 |A|)\n",
    "$$\n",
    "\n",
    "## Total Cost Per Iteration\n",
    "\n",
    "Since each iteration consists of **Policy Evaluation + Policy Improvement**, the total per-iteration complexity is:\n",
    "\n",
    "$$\n",
    "\\mathcal{O}(|S|^3 + |S|^2 |A|)\n",
    "$$\n",
    "\n",
    "- $\\mathcal{O}(|S|^3)$ from solving for $V^\\pi$.\n",
    "- $\\mathcal{O}(|S|^2 |A|)$ from computing $Q^\\pi(s,a)$ and updating the policy.\n",
    "resulting in a total cost of $\\mathcal{O}(|S|^3 + |S|^2 |A|)$\n",
    "\n"
   ]
  },
  {
   "cell_type": "markdown",
   "id": "a59265d9",
   "metadata": {},
   "source": [
    "# Ex 4: Q-Learning [15 pts.]"
   ]
  },
  {
   "cell_type": "markdown",
   "id": "7252fd60",
   "metadata": {},
   "source": [
    "Now, we are ready to tackle the problem in the model free setting. For technical reason, we focus on the finite horizon setting in this part and we compare two exploration strategies.\n",
    "1. **$\\varepsilon$-greedy** (Watkins, Christopher John Cornish Hellaby. “Learning from Delayed Rewards.” PhD Thesis, King’s College, Cambridge United Kingdom, 1989.)\n",
    "  - Initialize $V_h(x) \\leftarrow H, Q_h(x,a) \\leftarrow H$ for all $(x,a,h)\\in \\mathcal{S} \\times \\mathcal{A} \\times [H], V_{H}(x) \\leftarrow 0$ for all $x \\in \\mathcal{S}$  \n",
    "  - For episode $k=1,\\dots,K$ do\n",
    "    - Receive $x_1$\n",
    "    - For step $h=1,\\dots,H$ do\n",
    "      - Sample $b_h \\sim \\text{Bernoulli}(\\varepsilon), \\hat{a}_h \\sim \\text{Uniform}(\\mathcal{A})$\n",
    "      - Take action $a_h \\leftarrow \\left[(1-b_h) \\left(\\underset{a' \\in \\mathcal{A}}{\\text{argmax}}{Q_h(x_h,a')}\\right) + b_h \\hat{a}_h \\right]$ and observe $x_{h+1}$\n",
    "      - $Q_h(x_h,a_h)\\leftarrow (1-\\alpha)Q_h(x_h,a_h) +\\alpha\\left[r_h(x_h,a_h) + V_{h+1}(x_{h+1})\\right]$\n",
    "      - $V_h(x_h)\\leftarrow \\min{\\left\\{H, \\underset{a' \\in \\mathcal{A}}{\\max}{Q_h(x_h,a')}\\right\\}}$\n",
    "2. **UCB bonuses** (Jin, Chi, Zeyuan Allen-Zhu, Sebastien Bubeck, and Michael I Jordan. “Is Q-Learning Provably Efficient?” In Advances in Neural Information Processing Systems, Vol. 31. Curran Associates, Inc., 2018. https://proceedings.neurips.cc/paper/2018/hash/d3b1fb02964aa64e257f9f26a31f72cf-Abstract.html.)\n",
    "  - Initialize $V_h(x) \\leftarrow H, Q_h(x,a) \\leftarrow H$ and $N_h(x,a) \\leftarrow 0$ for all $(x,a,h)\\in \\mathcal{S} \\times \\mathcal{A} \\times [H], V_{H}(x) \\leftarrow 0$ for all $x \\in \\mathcal{S}$  \n",
    "  - For episode $k=1,\\dots,K$ do\n",
    "    - Receive $x_1$\n",
    "    - For step $h=1,\\dots,H$ do\n",
    "      - Take action $a_h \\leftarrow \\underset{a' \\in \\mathcal{A}}{\\text{argmax}}{Q_h(x_h,a')}$ and observe $x_{h+1}$\n",
    "      - $t=N_h(x_h,a_h)\\leftarrow N_h(x_h,a_h) + 1, \\alpha_t = \\frac{H+1}{H+t}$ and $b_t \\leftarrow c\\sqrt{\\frac{H^3}{t}}$\n",
    "      - $Q_h(x_h,a_h)\\leftarrow (1-\\alpha_t)Q_h(x_h,a_h) +\\alpha_t\\left[r_h(x_h,a_h) + V_{h+1}(x_{h+1}) + b_t\\right]$\n",
    "      - $V_h(x_h)\\leftarrow \\min{\\left\\{H, \\underset{a' \\in \\mathcal{A}}{\\max}{Q_h(x_h,a')}\\right\\}}$"
   ]
  },
  {
   "cell_type": "markdown",
   "id": "184330cc",
   "metadata": {},
   "source": [
    "For other technical reason, we also need to rescale the reward between 0 and 1, as done in the following"
   ]
  },
  {
   "cell_type": "code",
   "execution_count": 24,
   "id": "5ff59bfb",
   "metadata": {
    "ExecuteTime": {
     "end_time": "2023-03-14T00:57:07.438599Z",
     "start_time": "2023-03-14T00:57:07.314600Z"
    }
   },
   "outputs": [],
   "source": [
    "reward_mode = 0\n",
    "size = 10\n",
    "gridworld = GridWorldEnvironment(reward_mode, size, prop=0, gamma=gamma)\n",
    "r_max = np.max(gridworld.r)\n",
    "r_min = np.min(gridworld.r)\n",
    "gridworld.r = (gridworld.r - r_min) / (r_max - r_min)"
   ]
  },
  {
   "cell_type": "markdown",
   "id": "b7545ef1",
   "metadata": {},
   "source": [
    "### Q learning with epsilon greedy "
   ]
  },
  {
   "cell_type": "markdown",
   "id": "17117c6d",
   "metadata": {},
   "source": [
    "In this subsection, we implement $Q$ Learning with the simplest possible exploration strategy: $\\epsilon$-greedy."
   ]
  },
  {
   "cell_type": "code",
   "execution_count": 25,
   "id": "3a5b63f2",
   "metadata": {
    "ExecuteTime": {
     "end_time": "2023-03-14T00:57:07.549598Z",
     "start_time": "2023-03-14T00:57:07.439601Z"
    }
   },
   "outputs": [],
   "source": [
    "def argmax_with_random_tie_breaking(b):\n",
    "    return np.random.choice(np.where(b == b.max())[0])"
   ]
  },
  {
   "cell_type": "code",
   "execution_count": 26,
   "id": "b6e5f11f",
   "metadata": {
    "ExecuteTime": {
     "end_time": "2023-03-14T00:59:43.054854Z",
     "start_time": "2023-03-14T00:57:07.551597Z"
    }
   },
   "outputs": [],
   "source": [
    "def q_learning_epsilon_greedy(K: int = 100000, H: int = 20, epsilon: float = 0.1, alpha: float = 0.1) -> List[float]:\n",
    "    \"\"\"\n",
    "    Function implementing the epsilon-greedy Q-learning algorithm.\n",
    "\n",
    "    :param K: Number of episodes, positive int\n",
    "    :param H: Number of steps per episode, positive int\n",
    "    :param epsilon: Algorithm hyperparameter, exploration probability, float in [0, 1]\n",
    "    :param alpha: Algorithm hyperparameter, Q update weight, float in [0, 1]\n",
    "\n",
    "    :return: reward after each step, list of K * H floats\n",
    "    \"\"\"\n",
    "    # Initialize tabular records\n",
    "    rewards = []\n",
    "    Q = H * np.ones((H, gridworld.n_states, gridworld.n_actions))\n",
    "    V = H * np.ones((H + 1, gridworld.n_states))\n",
    "    V[H, :] = 0\n",
    "\n",
    "    for k in range(K):  # Episode loop\n",
    "        state = 99  # Initial state\n",
    "        for h in range(H):  # Step loop\n",
    "            explore = np.random.binomial(2, p=epsilon)\n",
    "            if explore:\n",
    "                # Exploration: With probability epsilon take a random action\n",
    "                a = np.random.choice(gridworld.n_actions)\n",
    "            else:\n",
    "                # Exploitation: With probability 1 - epsilon take one of the optimal actions for the current state\n",
    "                a = argmax_with_random_tie_breaking(Q[h, state, :])\n",
    "\n",
    "            # Get reward for action\n",
    "            rewards.append(gridworld.r[state, a])\n",
    "\n",
    "            # Get the new state according to the transition dynamics\n",
    "            new_state = np.random.choice(gridworld.n_states,\n",
    "                                         p=gridworld.T[a][state])\n",
    "\n",
    "            # Update Q according to the algorithm\n",
    "            Q[h, state, a] = (1-alpha)*Q[h, state, a] + alpha*(gridworld.r[state, a] + gridworld.gamma*V[h+1, new_state])\n",
    "\n",
    "            # Update V as the Q-value of the optimal actions for the current state\n",
    "            V[h, state] = np.min([np.max(Q[h, state, :]), H])\n",
    "\n",
    "            state = new_state\n",
    "    return rewards"
   ]
  },
  {
   "cell_type": "code",
   "execution_count": 27,
   "id": "07817512",
   "metadata": {
    "ExecuteTime": {
     "end_time": "2023-03-14T00:59:43.293855Z",
     "start_time": "2023-03-14T00:59:43.055853Z"
    }
   },
   "outputs": [],
   "source": [
    "reward_eps_greedy = (\n",
    "    q_learning_epsilon_greedy()\n",
    ")  # You can play around with the arguments if you like\n",
    "cumulative_reward_eps_greedy = np.cumsum(reward_eps_greedy)"
   ]
  },
  {
   "cell_type": "markdown",
   "id": "a2e809e2",
   "metadata": {},
   "source": [
    "### Q-Learning with bonuses"
   ]
  },
  {
   "cell_type": "markdown",
   "id": "c49d6483",
   "metadata": {},
   "source": [
    "In this subsection, you are asked to implement an optimistic version of  Q Learning suggested in (Jin et al., 2018)"
   ]
  },
  {
   "cell_type": "code",
   "execution_count": 28,
   "id": "ff556a7b",
   "metadata": {
    "ExecuteTime": {
     "end_time": "2023-03-14T01:02:45.032943Z",
     "start_time": "2023-03-14T00:59:43.294856Z"
    }
   },
   "outputs": [],
   "source": [
    "def q_learning_ucb_bonuses(K: int = 100000, H: int = 20, c: float = 0.0001) -> List[float]:\n",
    "    \"\"\"\n",
    "    Function implementing the Q-learning with UCB bonuses algorithm.\n",
    "\n",
    "    :param K: Number of episodes, positive int\n",
    "    :param H: Number of steps per episode, positive int\n",
    "    :param c: Algorithm hyperparameter, constant which scales the bonuses, positive float\n",
    "\n",
    "    :return: reward after each step, list of K * H floats\n",
    "    \"\"\"\n",
    "\n",
    "    # Initialize tabular records\n",
    "    rewards = []\n",
    "    Q = H * np.ones((H, gridworld.n_states, gridworld.n_actions))\n",
    "    V = H * np.ones((H + 1, gridworld.n_states))\n",
    "    V[H, :] = 0\n",
    "    N = np.ones((H, gridworld.n_states, gridworld.n_actions))\n",
    "\n",
    "    for k in range(K):  # Episode loop\n",
    "        state = 99  # Initial state\n",
    "        for h in range(H):  # Step loop\n",
    "            # Take one of the optimal actions for the current state\n",
    "            a = argmax_with_random_tie_breaking(Q[h, state, :])\n",
    "            rewards.append(gridworld.r[state, a])\n",
    "\n",
    "            # Record that we visited this state-action pair (again)\n",
    "            N[h, state, a] += 1\n",
    "\n",
    "            # Get the new state according to the transition dynamics\n",
    "            new_state = np.random.choice(gridworld.n_states,\n",
    "                                         p=gridworld.T[a][state])\n",
    "\n",
    "            # Calculate the UCB bonus\n",
    "            bonus = c * np.sqrt(H ** 3 / N[h, state, a])\n",
    "\n",
    "            # Calculate the adaptive alpha according to the algorithm\n",
    "            alpha = (H + 1) / (H + N[h, state, a])\n",
    "\n",
    "            # Update Q according to the algorithm\n",
    "            Q[h, state, a] = (1-alpha)*Q[h, state, a] + alpha*(gridworld.r[state, a] + V[h+1, new_state] + bonus)\n",
    "\n",
    "            # Update V as the Q-value of the optimal actions for the current state\n",
    "            V[h, state] = np.max(Q[h, state, :])\n",
    "            V[h, state] = np.clip(V[h, state], 0, H)\n",
    "\n",
    "            state = new_state\n",
    "\n",
    "    return rewards"
   ]
  },
  {
   "cell_type": "code",
   "execution_count": 29,
   "id": "ca3125a5",
   "metadata": {
    "ExecuteTime": {
     "end_time": "2023-03-14T01:02:45.254892Z",
     "start_time": "2023-03-14T01:02:45.033927Z"
    }
   },
   "outputs": [],
   "source": [
    "reward_UCB = (\n",
    "    q_learning_ucb_bonuses()\n",
    ")  # You can play around with the arguments if you like\n",
    "cumulative_reward_UCB = np.cumsum(reward_UCB)"
   ]
  },
  {
   "cell_type": "markdown",
   "id": "9d470164",
   "metadata": {},
   "source": [
    "### Comparison of exploration strategies"
   ]
  },
  {
   "cell_type": "code",
   "execution_count": 30,
   "id": "b234b79f",
   "metadata": {
    "ExecuteTime": {
     "end_time": "2023-03-14T01:02:48.908004Z",
     "start_time": "2023-03-14T01:02:45.256893Z"
    }
   },
   "outputs": [
    {
     "ename": "FileNotFoundError",
     "evalue": "[Errno 2] No such file or directory: '../plot/figsucbvseps.png'",
     "output_type": "error",
     "traceback": [
      "\u001b[1;31m---------------------------------------------------------------------------\u001b[0m",
      "\u001b[1;31mFileNotFoundError\u001b[0m                         Traceback (most recent call last)",
      "Cell \u001b[1;32mIn[30], line 1\u001b[0m\n\u001b[1;32m----> 1\u001b[0m \u001b[43mplot_lines\u001b[49m\u001b[43m(\u001b[49m\n\u001b[0;32m      2\u001b[0m \u001b[43m    \u001b[49m\u001b[43m[\u001b[49m\u001b[43mcumulative_reward_eps_greedy\u001b[49m\u001b[43m,\u001b[49m\u001b[43m \u001b[49m\u001b[43mcumulative_reward_UCB\u001b[49m\u001b[43m]\u001b[49m\u001b[43m,\u001b[49m\n\u001b[0;32m      3\u001b[0m \u001b[43m    \u001b[49m\u001b[43m[\u001b[49m\u001b[38;5;124;43mr\u001b[39;49m\u001b[38;5;124;43m\"\u001b[39;49m\u001b[38;5;124;43m$\u001b[39;49m\u001b[38;5;124;43m\\\u001b[39;49m\u001b[38;5;124;43mepsilon$-greedy\u001b[39;49m\u001b[38;5;124;43m\"\u001b[39;49m\u001b[43m,\u001b[49m\u001b[43m \u001b[49m\u001b[38;5;124;43m\"\u001b[39;49m\u001b[38;5;124;43mUCB\u001b[39;49m\u001b[38;5;124;43m\"\u001b[39;49m\u001b[43m]\u001b[49m\u001b[43m,\u001b[49m\n\u001b[0;32m      4\u001b[0m \u001b[43m    \u001b[49m\u001b[43m[\u001b[49m\u001b[38;5;124;43m\"\u001b[39;49m\u001b[38;5;124;43mIteration\u001b[39;49m\u001b[38;5;124;43m\"\u001b[39;49m\u001b[43m,\u001b[49m\u001b[43m \u001b[49m\u001b[38;5;124;43m\"\u001b[39;49m\u001b[38;5;124;43mReward collected so far\u001b[39;49m\u001b[38;5;124;43m\"\u001b[39;49m\u001b[43m]\u001b[49m\u001b[43m,\u001b[49m\n\u001b[0;32m      5\u001b[0m \u001b[43m    \u001b[49m\u001b[38;5;124;43m\"\u001b[39;49m\u001b[38;5;124;43mfigs\u001b[39;49m\u001b[38;5;124;43m\"\u001b[39;49m\u001b[43m,\u001b[49m\n\u001b[0;32m      6\u001b[0m \u001b[43m    \u001b[49m\u001b[38;5;124;43m\"\u001b[39;49m\u001b[38;5;124;43mucbvseps\u001b[39;49m\u001b[38;5;124;43m\"\u001b[39;49m\u001b[43m,\u001b[49m\n\u001b[0;32m      7\u001b[0m \u001b[43m    \u001b[49m\u001b[43mshow\u001b[49m\u001b[38;5;241;43m=\u001b[39;49m\u001b[38;5;28;43;01mFalse\u001b[39;49;00m\u001b[43m,\u001b[49m\n\u001b[0;32m      8\u001b[0m \u001b[43m)\u001b[49m\n",
      "File \u001b[1;32mc:\\Users\\Rayan\\Desktop\\Master\\6_Reinforcement_learning\\Notebooks\\notebook1\\src\\plot.py:177\u001b[0m, in \u001b[0;36mplot_lines\u001b[1;34m(list_to_plot, list_name, axis_label, folder, title, x_axis, show)\u001b[0m\n\u001b[0;32m    175\u001b[0m     plt\u001b[38;5;241m.\u001b[39mshow()\n\u001b[0;32m    176\u001b[0m \u001b[38;5;28;01melse\u001b[39;00m:\n\u001b[1;32m--> 177\u001b[0m     \u001b[43mplt\u001b[49m\u001b[38;5;241;43m.\u001b[39;49m\u001b[43msavefig\u001b[49m\u001b[43m(\u001b[49m\u001b[38;5;124;43m'\u001b[39;49m\u001b[38;5;124;43m../plot/\u001b[39;49m\u001b[38;5;124;43m'\u001b[39;49m\u001b[38;5;241;43m+\u001b[39;49m\u001b[43mfolder\u001b[49m\u001b[38;5;241;43m+\u001b[39;49m\u001b[43mtitle\u001b[49m\u001b[38;5;241;43m+\u001b[39;49m\u001b[38;5;124;43m'\u001b[39;49m\u001b[38;5;124;43m.png\u001b[39;49m\u001b[38;5;124;43m'\u001b[39;49m\u001b[43m)\u001b[49m\n\u001b[0;32m    178\u001b[0m     plt\u001b[38;5;241m.\u001b[39msavefig(\u001b[38;5;124m'\u001b[39m\u001b[38;5;124m../plot/\u001b[39m\u001b[38;5;124m'\u001b[39m\u001b[38;5;241m+\u001b[39mfolder\u001b[38;5;241m+\u001b[39mtitle\u001b[38;5;241m+\u001b[39m\u001b[38;5;124m'\u001b[39m\u001b[38;5;124m.pdf\u001b[39m\u001b[38;5;124m'\u001b[39m)\n",
      "File \u001b[1;32mc:\\Users\\Rayan\\Desktop\\Master\\6_Reinforcement_learning\\venv_RL\\lib\\site-packages\\matplotlib\\pyplot.py:1134\u001b[0m, in \u001b[0;36msavefig\u001b[1;34m(*args, **kwargs)\u001b[0m\n\u001b[0;32m   1131\u001b[0m fig \u001b[38;5;241m=\u001b[39m gcf()\n\u001b[0;32m   1132\u001b[0m \u001b[38;5;66;03m# savefig default implementation has no return, so mypy is unhappy\u001b[39;00m\n\u001b[0;32m   1133\u001b[0m \u001b[38;5;66;03m# presumably this is here because subclasses can return?\u001b[39;00m\n\u001b[1;32m-> 1134\u001b[0m res \u001b[38;5;241m=\u001b[39m fig\u001b[38;5;241m.\u001b[39msavefig(\u001b[38;5;241m*\u001b[39margs, \u001b[38;5;241m*\u001b[39m\u001b[38;5;241m*\u001b[39mkwargs)  \u001b[38;5;66;03m# type: ignore[func-returns-value]\u001b[39;00m\n\u001b[0;32m   1135\u001b[0m fig\u001b[38;5;241m.\u001b[39mcanvas\u001b[38;5;241m.\u001b[39mdraw_idle()  \u001b[38;5;66;03m# Need this if 'transparent=True', to reset colors.\u001b[39;00m\n\u001b[0;32m   1136\u001b[0m \u001b[38;5;28;01mreturn\u001b[39;00m res\n",
      "File \u001b[1;32mc:\\Users\\Rayan\\Desktop\\Master\\6_Reinforcement_learning\\venv_RL\\lib\\site-packages\\matplotlib\\figure.py:3390\u001b[0m, in \u001b[0;36mFigure.savefig\u001b[1;34m(self, fname, transparent, **kwargs)\u001b[0m\n\u001b[0;32m   3388\u001b[0m     \u001b[38;5;28;01mfor\u001b[39;00m ax \u001b[38;5;129;01min\u001b[39;00m \u001b[38;5;28mself\u001b[39m\u001b[38;5;241m.\u001b[39maxes:\n\u001b[0;32m   3389\u001b[0m         _recursively_make_axes_transparent(stack, ax)\n\u001b[1;32m-> 3390\u001b[0m \u001b[38;5;28mself\u001b[39m\u001b[38;5;241m.\u001b[39mcanvas\u001b[38;5;241m.\u001b[39mprint_figure(fname, \u001b[38;5;241m*\u001b[39m\u001b[38;5;241m*\u001b[39mkwargs)\n",
      "File \u001b[1;32mc:\\Users\\Rayan\\Desktop\\Master\\6_Reinforcement_learning\\venv_RL\\lib\\site-packages\\matplotlib\\backend_bases.py:2193\u001b[0m, in \u001b[0;36mFigureCanvasBase.print_figure\u001b[1;34m(self, filename, dpi, facecolor, edgecolor, orientation, format, bbox_inches, pad_inches, bbox_extra_artists, backend, **kwargs)\u001b[0m\n\u001b[0;32m   2189\u001b[0m \u001b[38;5;28;01mtry\u001b[39;00m:\n\u001b[0;32m   2190\u001b[0m     \u001b[38;5;66;03m# _get_renderer may change the figure dpi (as vector formats\u001b[39;00m\n\u001b[0;32m   2191\u001b[0m     \u001b[38;5;66;03m# force the figure dpi to 72), so we need to set it again here.\u001b[39;00m\n\u001b[0;32m   2192\u001b[0m     \u001b[38;5;28;01mwith\u001b[39;00m cbook\u001b[38;5;241m.\u001b[39m_setattr_cm(\u001b[38;5;28mself\u001b[39m\u001b[38;5;241m.\u001b[39mfigure, dpi\u001b[38;5;241m=\u001b[39mdpi):\n\u001b[1;32m-> 2193\u001b[0m         result \u001b[38;5;241m=\u001b[39m print_method(\n\u001b[0;32m   2194\u001b[0m             filename,\n\u001b[0;32m   2195\u001b[0m             facecolor\u001b[38;5;241m=\u001b[39mfacecolor,\n\u001b[0;32m   2196\u001b[0m             edgecolor\u001b[38;5;241m=\u001b[39medgecolor,\n\u001b[0;32m   2197\u001b[0m             orientation\u001b[38;5;241m=\u001b[39morientation,\n\u001b[0;32m   2198\u001b[0m             bbox_inches_restore\u001b[38;5;241m=\u001b[39m_bbox_inches_restore,\n\u001b[0;32m   2199\u001b[0m             \u001b[38;5;241m*\u001b[39m\u001b[38;5;241m*\u001b[39mkwargs)\n\u001b[0;32m   2200\u001b[0m \u001b[38;5;28;01mfinally\u001b[39;00m:\n\u001b[0;32m   2201\u001b[0m     \u001b[38;5;28;01mif\u001b[39;00m bbox_inches \u001b[38;5;129;01mand\u001b[39;00m restore_bbox:\n",
      "File \u001b[1;32mc:\\Users\\Rayan\\Desktop\\Master\\6_Reinforcement_learning\\venv_RL\\lib\\site-packages\\matplotlib\\backend_bases.py:2043\u001b[0m, in \u001b[0;36mFigureCanvasBase._switch_canvas_and_return_print_method.<locals>.<lambda>\u001b[1;34m(*args, **kwargs)\u001b[0m\n\u001b[0;32m   2039\u001b[0m     optional_kws \u001b[38;5;241m=\u001b[39m {  \u001b[38;5;66;03m# Passed by print_figure for other renderers.\u001b[39;00m\n\u001b[0;32m   2040\u001b[0m         \u001b[38;5;124m\"\u001b[39m\u001b[38;5;124mdpi\u001b[39m\u001b[38;5;124m\"\u001b[39m, \u001b[38;5;124m\"\u001b[39m\u001b[38;5;124mfacecolor\u001b[39m\u001b[38;5;124m\"\u001b[39m, \u001b[38;5;124m\"\u001b[39m\u001b[38;5;124medgecolor\u001b[39m\u001b[38;5;124m\"\u001b[39m, \u001b[38;5;124m\"\u001b[39m\u001b[38;5;124morientation\u001b[39m\u001b[38;5;124m\"\u001b[39m,\n\u001b[0;32m   2041\u001b[0m         \u001b[38;5;124m\"\u001b[39m\u001b[38;5;124mbbox_inches_restore\u001b[39m\u001b[38;5;124m\"\u001b[39m}\n\u001b[0;32m   2042\u001b[0m     skip \u001b[38;5;241m=\u001b[39m optional_kws \u001b[38;5;241m-\u001b[39m {\u001b[38;5;241m*\u001b[39minspect\u001b[38;5;241m.\u001b[39msignature(meth)\u001b[38;5;241m.\u001b[39mparameters}\n\u001b[1;32m-> 2043\u001b[0m     print_method \u001b[38;5;241m=\u001b[39m functools\u001b[38;5;241m.\u001b[39mwraps(meth)(\u001b[38;5;28;01mlambda\u001b[39;00m \u001b[38;5;241m*\u001b[39margs, \u001b[38;5;241m*\u001b[39m\u001b[38;5;241m*\u001b[39mkwargs: meth(\n\u001b[0;32m   2044\u001b[0m         \u001b[38;5;241m*\u001b[39margs, \u001b[38;5;241m*\u001b[39m\u001b[38;5;241m*\u001b[39m{k: v \u001b[38;5;28;01mfor\u001b[39;00m k, v \u001b[38;5;129;01min\u001b[39;00m kwargs\u001b[38;5;241m.\u001b[39mitems() \u001b[38;5;28;01mif\u001b[39;00m k \u001b[38;5;129;01mnot\u001b[39;00m \u001b[38;5;129;01min\u001b[39;00m skip}))\n\u001b[0;32m   2045\u001b[0m \u001b[38;5;28;01melse\u001b[39;00m:  \u001b[38;5;66;03m# Let third-parties do as they see fit.\u001b[39;00m\n\u001b[0;32m   2046\u001b[0m     print_method \u001b[38;5;241m=\u001b[39m meth\n",
      "File \u001b[1;32mc:\\Users\\Rayan\\Desktop\\Master\\6_Reinforcement_learning\\venv_RL\\lib\\site-packages\\matplotlib\\backends\\backend_agg.py:497\u001b[0m, in \u001b[0;36mFigureCanvasAgg.print_png\u001b[1;34m(self, filename_or_obj, metadata, pil_kwargs)\u001b[0m\n\u001b[0;32m    450\u001b[0m \u001b[38;5;28;01mdef\u001b[39;00m\u001b[38;5;250m \u001b[39m\u001b[38;5;21mprint_png\u001b[39m(\u001b[38;5;28mself\u001b[39m, filename_or_obj, \u001b[38;5;241m*\u001b[39m, metadata\u001b[38;5;241m=\u001b[39m\u001b[38;5;28;01mNone\u001b[39;00m, pil_kwargs\u001b[38;5;241m=\u001b[39m\u001b[38;5;28;01mNone\u001b[39;00m):\n\u001b[0;32m    451\u001b[0m \u001b[38;5;250m    \u001b[39m\u001b[38;5;124;03m\"\"\"\u001b[39;00m\n\u001b[0;32m    452\u001b[0m \u001b[38;5;124;03m    Write the figure to a PNG file.\u001b[39;00m\n\u001b[0;32m    453\u001b[0m \n\u001b[1;32m   (...)\u001b[0m\n\u001b[0;32m    495\u001b[0m \u001b[38;5;124;03m        *metadata*, including the default 'Software' key.\u001b[39;00m\n\u001b[0;32m    496\u001b[0m \u001b[38;5;124;03m    \"\"\"\u001b[39;00m\n\u001b[1;32m--> 497\u001b[0m     \u001b[38;5;28;43mself\u001b[39;49m\u001b[38;5;241;43m.\u001b[39;49m\u001b[43m_print_pil\u001b[49m\u001b[43m(\u001b[49m\u001b[43mfilename_or_obj\u001b[49m\u001b[43m,\u001b[49m\u001b[43m \u001b[49m\u001b[38;5;124;43m\"\u001b[39;49m\u001b[38;5;124;43mpng\u001b[39;49m\u001b[38;5;124;43m\"\u001b[39;49m\u001b[43m,\u001b[49m\u001b[43m \u001b[49m\u001b[43mpil_kwargs\u001b[49m\u001b[43m,\u001b[49m\u001b[43m \u001b[49m\u001b[43mmetadata\u001b[49m\u001b[43m)\u001b[49m\n",
      "File \u001b[1;32mc:\\Users\\Rayan\\Desktop\\Master\\6_Reinforcement_learning\\venv_RL\\lib\\site-packages\\matplotlib\\backends\\backend_agg.py:446\u001b[0m, in \u001b[0;36mFigureCanvasAgg._print_pil\u001b[1;34m(self, filename_or_obj, fmt, pil_kwargs, metadata)\u001b[0m\n\u001b[0;32m    441\u001b[0m \u001b[38;5;250m\u001b[39m\u001b[38;5;124;03m\"\"\"\u001b[39;00m\n\u001b[0;32m    442\u001b[0m \u001b[38;5;124;03mDraw the canvas, then save it using `.image.imsave` (to which\u001b[39;00m\n\u001b[0;32m    443\u001b[0m \u001b[38;5;124;03m*pil_kwargs* and *metadata* are forwarded).\u001b[39;00m\n\u001b[0;32m    444\u001b[0m \u001b[38;5;124;03m\"\"\"\u001b[39;00m\n\u001b[0;32m    445\u001b[0m FigureCanvasAgg\u001b[38;5;241m.\u001b[39mdraw(\u001b[38;5;28mself\u001b[39m)\n\u001b[1;32m--> 446\u001b[0m \u001b[43mmpl\u001b[49m\u001b[38;5;241;43m.\u001b[39;49m\u001b[43mimage\u001b[49m\u001b[38;5;241;43m.\u001b[39;49m\u001b[43mimsave\u001b[49m\u001b[43m(\u001b[49m\n\u001b[0;32m    447\u001b[0m \u001b[43m    \u001b[49m\u001b[43mfilename_or_obj\u001b[49m\u001b[43m,\u001b[49m\u001b[43m \u001b[49m\u001b[38;5;28;43mself\u001b[39;49m\u001b[38;5;241;43m.\u001b[39;49m\u001b[43mbuffer_rgba\u001b[49m\u001b[43m(\u001b[49m\u001b[43m)\u001b[49m\u001b[43m,\u001b[49m\u001b[43m \u001b[49m\u001b[38;5;28;43mformat\u001b[39;49m\u001b[38;5;241;43m=\u001b[39;49m\u001b[43mfmt\u001b[49m\u001b[43m,\u001b[49m\u001b[43m \u001b[49m\u001b[43morigin\u001b[49m\u001b[38;5;241;43m=\u001b[39;49m\u001b[38;5;124;43m\"\u001b[39;49m\u001b[38;5;124;43mupper\u001b[39;49m\u001b[38;5;124;43m\"\u001b[39;49m\u001b[43m,\u001b[49m\n\u001b[0;32m    448\u001b[0m \u001b[43m    \u001b[49m\u001b[43mdpi\u001b[49m\u001b[38;5;241;43m=\u001b[39;49m\u001b[38;5;28;43mself\u001b[39;49m\u001b[38;5;241;43m.\u001b[39;49m\u001b[43mfigure\u001b[49m\u001b[38;5;241;43m.\u001b[39;49m\u001b[43mdpi\u001b[49m\u001b[43m,\u001b[49m\u001b[43m \u001b[49m\u001b[43mmetadata\u001b[49m\u001b[38;5;241;43m=\u001b[39;49m\u001b[43mmetadata\u001b[49m\u001b[43m,\u001b[49m\u001b[43m \u001b[49m\u001b[43mpil_kwargs\u001b[49m\u001b[38;5;241;43m=\u001b[39;49m\u001b[43mpil_kwargs\u001b[49m\u001b[43m)\u001b[49m\n",
      "File \u001b[1;32mc:\\Users\\Rayan\\Desktop\\Master\\6_Reinforcement_learning\\venv_RL\\lib\\site-packages\\matplotlib\\image.py:1656\u001b[0m, in \u001b[0;36mimsave\u001b[1;34m(fname, arr, vmin, vmax, cmap, format, origin, dpi, metadata, pil_kwargs)\u001b[0m\n\u001b[0;32m   1654\u001b[0m pil_kwargs\u001b[38;5;241m.\u001b[39msetdefault(\u001b[38;5;124m\"\u001b[39m\u001b[38;5;124mformat\u001b[39m\u001b[38;5;124m\"\u001b[39m, \u001b[38;5;28mformat\u001b[39m)\n\u001b[0;32m   1655\u001b[0m pil_kwargs\u001b[38;5;241m.\u001b[39msetdefault(\u001b[38;5;124m\"\u001b[39m\u001b[38;5;124mdpi\u001b[39m\u001b[38;5;124m\"\u001b[39m, (dpi, dpi))\n\u001b[1;32m-> 1656\u001b[0m image\u001b[38;5;241m.\u001b[39msave(fname, \u001b[38;5;241m*\u001b[39m\u001b[38;5;241m*\u001b[39mpil_kwargs)\n",
      "File \u001b[1;32mc:\\Users\\Rayan\\Desktop\\Master\\6_Reinforcement_learning\\venv_RL\\lib\\site-packages\\PIL\\Image.py:2591\u001b[0m, in \u001b[0;36mImage.save\u001b[1;34m(self, fp, format, **params)\u001b[0m\n\u001b[0;32m   2589\u001b[0m         fp \u001b[38;5;241m=\u001b[39m builtins\u001b[38;5;241m.\u001b[39mopen(filename, \u001b[38;5;124m\"\u001b[39m\u001b[38;5;124mr+b\u001b[39m\u001b[38;5;124m\"\u001b[39m)\n\u001b[0;32m   2590\u001b[0m     \u001b[38;5;28;01melse\u001b[39;00m:\n\u001b[1;32m-> 2591\u001b[0m         fp \u001b[38;5;241m=\u001b[39m \u001b[43mbuiltins\u001b[49m\u001b[38;5;241;43m.\u001b[39;49m\u001b[43mopen\u001b[49m\u001b[43m(\u001b[49m\u001b[43mfilename\u001b[49m\u001b[43m,\u001b[49m\u001b[43m \u001b[49m\u001b[38;5;124;43m\"\u001b[39;49m\u001b[38;5;124;43mw+b\u001b[39;49m\u001b[38;5;124;43m\"\u001b[39;49m\u001b[43m)\u001b[49m\n\u001b[0;32m   2592\u001b[0m \u001b[38;5;28;01melse\u001b[39;00m:\n\u001b[0;32m   2593\u001b[0m     fp \u001b[38;5;241m=\u001b[39m cast(IO[\u001b[38;5;28mbytes\u001b[39m], fp)\n",
      "\u001b[1;31mFileNotFoundError\u001b[0m: [Errno 2] No such file or directory: '../plot/figsucbvseps.png'"
     ]
    },
    {
     "data": {
      "image/png": "[encoded data removed]",
      "text/plain": [
       "<Figure size 800x550 with 1 Axes>"
      ]
     },
     "metadata": {},
     "output_type": "display_data"
    }
   ],
   "source": [
    "plot_lines(\n",
    "    [cumulative_reward_eps_greedy, cumulative_reward_UCB],\n",
    "    [r\"$\\epsilon$-greedy\", \"UCB\"],\n",
    "    [\"Iteration\", \"Reward collected so far\"],\n",
    "    \"figs\",\n",
    "    \"ucbvseps\",\n",
    "    show=False,\n",
    ")"
   ]
  },
  {
   "cell_type": "markdown",
   "id": "9a1249fb",
   "metadata": {},
   "source": [
    "**Question:** You are given an environment with $N$ states linked in a chain, i.e. from every state except the two endpoints there are two possible actions going right or go back to the first state in the chain. For the endpoints the second action is to stay in the same state. The reward is only 1 if you are in the rightmost state and stay there, otherwise 0. What is the probability that the $\\varepsilon$-greedy algorithm will have a positive reward after $H$ steps in the first episode, if the chosen initial state is the leftmost state in the chain?"
   ]
  },
  {
   "cell_type": "markdown",
   "id": "598be158",
   "metadata": {},
   "source": [
    "- If H < N , p=0 : the robot needs N-1 steps at least to reach point N(rightmost) and 1 additional step to re'stay' in N to acquire a positive reward, it needs at least N steps to acquire a positive reward\n",
    "\n",
    "Since we have a 2 action scenario, we assume ,without loss of generality, that each action has a 0.5 = X probability of being chosen\n",
    "- If H=N , only 1 path is possible to N which is go straight to goal from left to right (N-1 steps) and restay once on N : $p = (X) ^ N$\n",
    "- If H=N+1, another path analysis taking into account the possibility of restaying in 1 , and restaying on N multiple times leads to : $p= 2*(X) ^ {N+1}$\n",
    "- Further analysis of H = N+2 , H= N+3 , H= N+4 ( I spare you the details but with these you can even move right a few steps and reset to 1 which complicates the logic since you can restay on 1 either at the start or on the resets) shows that: $p= 2 ^ {H-N}*(X) ^ {H}$"
   ]
  },
  {
   "cell_type": "markdown",
   "id": "426724d8",
   "metadata": {},
   "source": [
    "**Question:** Does the empirical result match the theoretical result described in (Jin et al. 2018) ? Try to answer this question after reading their Appendix A and looking at their Table 1 for the algorithm they call UCB-H."
   ]
  },
  {
   "cell_type": "markdown",
   "id": "b8de834a",
   "metadata": {},
   "source": [
    "Based on the figure, UCB is collecting far more reward over time compared to  ε-greedy. \n",
    "\n",
    "This matches the theoretical results in Jin et al. (2018), where UCB-based Q-learning (UCB-H) is proven to have better sample complexity (lower regret) than plain ε-greedy Q-learning.\n",
    "\n",
    "In other words, the green curve growing quickly in the plot aligns with the idea that UCB bonuses drive more efficient exploration, leading to faster learning and higher cumulative reward—exactly as the theory predicts."
   ]
  },
  {
   "cell_type": "markdown",
   "id": "97a704b0",
   "metadata": {},
   "source": [
    "## Monte Carlo (MC) and Time Differences (TD) ( * Question ) [25 points]\n",
    "\n",
    "Disclaimer: The TA can not help you on this part of the notebook."
   ]
  },
  {
   "cell_type": "code",
   "execution_count": 33,
   "id": "e19782a7",
   "metadata": {},
   "outputs": [],
   "source": [
    "\n",
    "def generate_episode(policy: List, H: int, initial_state: int):\n",
    "    \"\"\"\n",
    "    Generate an episode using the given policy.\n",
    "\n",
    "    :param policy: A list where each element is a probability distribution over actions for a state.\n",
    "    :param H: Maximum number of steps in the episode.\n",
    "    :param initial_state: Starting state.\n",
    "\n",
    "    :return: A list of (state, action, reward) tuples.\n",
    "    \"\"\"\n",
    "    episode = []\n",
    "    state = initial_state\n",
    "    for _ in range(H):\n",
    "        action = policy[state]\n",
    "        reward = gridworld.r[state, action]\n",
    "        next_state = np.random.choice(gridworld.n_states, p=gridworld.T[action][state])\n",
    "        episode.append((state, action, reward))\n",
    "        state = next_state\n",
    "    return episode\n",
    "\n",
    "def mc_policy_evaluation_with_linear_approx(\n",
    "    policy: List[np.ndarray], \n",
    "    phi: np.ndarray,\n",
    "    K: int = 1000, \n",
    "    H: int = 20, \n",
    "    gamma: float = 0.99, \n",
    "    alpha: float = 0.01\n",
    ") -> np.ndarray:\n",
    "    \"\"\"\n",
    "    Monte Carlo policy evaluation with linear function approximation.\n",
    "\n",
    "    :param policy: A list where each element is a probability distribution over actions for a state.\n",
    "    :param K: Number of episodes.\n",
    "    :param H: Maximum number of steps per episode.\n",
    "    :param gamma: Discount factor.\n",
    "    :param alpha: Learning rate for gradient descent.\n",
    "\n",
    "    :return: The learned weight vector theta.\n",
    "    \"\"\"\n",
    "    # Feature matrix: Each state is represented by a one-hot vector\n",
    "    n_states = gridworld.n_states\n",
    "\n",
    "    # Initialize weight vector theta\n",
    "    theta = np.zeros(n_states)\n",
    "\n",
    "    for _ in range(K):  # Episode loop\n",
    "        episode = generate_episode(policy, H, initial_state=99)  # Generate episode\n",
    "        G = 0  # Return\n",
    "\n",
    "        # Backward pass through the episode\n",
    "        for t in range(len(episode) - 1, -1, -1):\n",
    "            state, _, reward = episode[t]\n",
    "            G = gamma * G + reward  # Discounted return\n",
    "\n",
    "            # Update theta using gradient descent\n",
    "            phi_s = phi[state]  # Feature vector for the current state\n",
    "            V_hat = np.dot(theta, phi_s)  # Current value estimate\n",
    "            theta += alpha * phi_s * (G - V_hat) \n",
    "            # Gradient descent update\n",
    "\n",
    "    return theta\n"
   ]
  },
  {
   "cell_type": "code",
   "execution_count": 34,
   "id": "92cec216",
   "metadata": {},
   "outputs": [],
   "source": [
    "\n",
    "import numpy as np\n",
    "def td_policy_evaluation_with_linear_approx(\n",
    "    policy: List[np.ndarray], \n",
    "    phi: np.ndarray,\n",
    "    K: int = 1000, \n",
    "    H: int = 20, \n",
    "    gamma: float = 0.99, \n",
    "    alpha: float = 0.01\n",
    ") -> np.ndarray:\n",
    "    \"\"\"\n",
    "    Temporal Difference (TD) policy evaluation with linear function approximation.\n",
    "\n",
    "    :param policy: A list where each element is a probability distribution over actions for a state.\n",
    "    :param K: Number of episodes.\n",
    "    :param H: Maximum number of steps per episode.\n",
    "    :param gamma: Discount factor.\n",
    "    :param alpha: Learning rate for gradient descent.\n",
    "\n",
    "    :return: The learned weight vector theta.\n",
    "    \"\"\"\n",
    "    # Feature matrix: Each state is represented by a one-hot vector\n",
    "    n_states = gridworld.n_states\n",
    "\n",
    "    # Initialize weight vector theta\n",
    "    theta = np.zeros(n_states)\n",
    "\n",
    "    for _ in range(K):  # Episode loop\n",
    "        state = 99  # Initial state\n",
    "        for _ in range(H):  # Step loop\n",
    "            # Sample action from policy\n",
    "            action = policy[state]\n",
    "            reward = gridworld.r[state, action]\n",
    "            next_state = np.random.choice(gridworld.n_states, p=gridworld.T[action][state])\n",
    "\n",
    "            # Compute TD target and TD error\n",
    "            phi_s = phi[state]  # Feature vector for current state\n",
    "            phi_s_next = phi[next_state]  # Feature vector for next state\n",
    "            V_s = np.dot(theta, phi_s)  # Current value estimate\n",
    "            V_s_next = np.dot(theta, phi_s_next)  # Next value estimate\n",
    "            td_target = reward + gamma * V_s_next\n",
    "              # TD target\n",
    "            td_error = td_target - V_s\n",
    "              # TD error\n",
    "\n",
    "            # Update theta using gradient descent\n",
    "            theta += alpha*td_error*phi_s\n",
    "\n",
    "            # Move to the next state\n",
    "            state = next_state\n",
    "\n",
    "    return theta"
   ]
  },
  {
   "cell_type": "markdown",
   "id": "8f31f3f7",
   "metadata": {},
   "source": [
    "**Case 1:**"
   ]
  },
  {
   "cell_type": "code",
   "execution_count": 35,
   "id": "4d161111",
   "metadata": {},
   "outputs": [
    {
     "name": "stdout",
     "output_type": "stream",
     "text": [
      "8.919948611419325e-07\n"
     ]
    }
   ],
   "source": [
    "_, pi = policy_iteration(gridworld)\n",
    "\n",
    "phi = np.eye(gridworld.n_states)  # Feature matrix (one-hot encoding)\n",
    "# Run Monte Carlo policy evaluation with linear function approximation\n",
    "theta_MC = mc_policy_evaluation_with_linear_approx(\n",
    "    pi, phi, K=1000, H=2000, gamma=gridworld.gamma, alpha=1\n",
    ")\n",
    "theta_TD = td_policy_evaluation_with_linear_approx(\n",
    "    pi, phi, K=1000, H=2000, gamma=gridworld.gamma, alpha=1\n",
    ")\n",
    "\n",
    "print(np.linalg.norm(theta_MC - theta_TD))"
   ]
  },
  {
   "cell_type": "markdown",
   "id": "8679f803",
   "metadata": {},
   "source": [
    "**Questions:** \n",
    "- Does the solution coincide ( up to numerical error ) in Case 1?\n",
    "- Explain your answer writing down the analytical solutions of the optimal solutions of the Monte Carlo and TD optimization problem $\\theta^\\star_{MC}$ and $\\theta^\\star_{TD}$ and argue why these are equal or different in this case. To give this answer you can assume that $\\rho$ is positive everywhere."
   ]
  },
  {
   "cell_type": "markdown",
   "id": "034d6339",
   "metadata": {},
   "source": [
    "-Yes, the solution does coincide in case 1 : we get 8.919948611419325e-07 as a result hch is basicly due to numerical errors.\n",
    "\n",
    "---\n",
    "#### Detailed Explanation\n",
    "\n",
    "1.   \n",
    "We have two ways to evaluate a policy $\\pi$ in a Markov Decision Process (MDP) when the transition dynamics are unknown:\n",
    "\n",
    "- Monte Carlo (MC) Policy Evaluation  \n",
    "- Temporal Difference (TD) Learning\n",
    "\n",
    "Both aim to estimate $V^\\pi(s)$, the state-value function under policy $\\pi$. Formally,\n",
    "$$\n",
    "V^\\pi(s) = \\mathbb{E}\\biggl[\\sum_{t=0}^{\\infty}\\gamma^t\\,r(s_t, a_t)\\,\\Bigm|\\;s_0 = s,\\;\\pi\\biggr].\n",
    "$$\n",
    "\n",
    "#### **Monte Carlo (MC) Policy Evaluation**\n",
    "\n",
    "**Key Idea**: Estimate $V^\\pi(s)$ by sampling full returns from episodes.\n",
    "\n",
    "1. **Generate an Episode**  \n",
    "   - Begin in some initial state $s_0$.  \n",
    "   - Follow $\\pi$ for up to $H$ steps. Collect transitions $(s_t,a_t,r_t)$.\n",
    "\n",
    "2. **Compute the Return**  \n",
    "   - For each time $t$, define  \n",
    "     $$\n",
    "     G_t = \\sum_{k=0}^{H-t-1}\\gamma^k\\,r_{t+k}.\n",
    "     $$\n",
    "   - $G_t$ is an **unbiased** sample of $V^\\pi(s_t)$.\n",
    "\n",
    "3. **Update the Value**  \n",
    "   - For a visited state $s_t$, do\n",
    "     $$\n",
    "     V(s_t) \\;\\leftarrow\\;V(s_t)\\;+\\;\\alpha\\bigl(G_t - V(s_t)\\bigr).\n",
    "     $$\n",
    "\n",
    "\n",
    "#### **Temporal Difference (TD) Learning**  \n",
    "**Key Idea**: Use a one-step bootstrap return $r_t + \\gamma\\,V(s_{t+1})$ instead of waiting for the entire episode.\n",
    "\n",
    "1. **Collect Experience**  \n",
    "   - Gather transitions $(s_t,a_t,r_t,s_{t+1})$ under $\\pi$.\n",
    "\n",
    "2. **One-Step TD Update**  \n",
    "   - After each transition:\n",
    "     $$\n",
    "     V(s_t)\\;\\leftarrow\\;V(s_t)\\;+\\;\\alpha\\bigl(r_t + \\gamma\\,V(s_{t+1}) - V(s_t)\\bigr).\n",
    "     $$\n",
    "\n",
    "**Advantages and Limitations**  \n",
    "- TD has **lower variance**, but is **slightly biased** (the target depends on the estimated $V$).  \n",
    "- Updates occur **each step**, so it handles continuing environments easily.\n",
    "\n",
    "#### **Analytical Solutions in the Linear Case**  \n",
    "Suppose we approximate $V^\\pi(s) \\approx \\phi(s)^\\top \\theta$.\n",
    "\n",
    "- **Monte Carlo** solves a mean-squared error objective with respect to returns:\n",
    "  $$\n",
    "  \\min_{\\theta}\\;\\frac12 \\sum_{s}\\rho(s)\\,\\bigl(\\phi(s)^\\top\\theta - V^\\pi(s)\\bigr)^2,\n",
    "  $$\n",
    "  which is the **projection** of $V^\\pi$ onto the span of $\\phi$.\n",
    "\n",
    "- **TD(0)** solves a projected Bellman equation. If $\\phi$ can represent $V^\\pi$ exactly, both converge to the same solution. Otherwise, they can differ.\n",
    "\n",
    "#### **Conclusion**  \n",
    "- In **one-hot** (tabular) representation, **both Monte Carlo and TD(0) converge** to the true $V^\\pi$ (numerically the same).  .  \n",
    "- If function approximation is exact, they end up with the **same** final parameter vector for $V^\\pi$.\n"
   ]
  },
  {
   "cell_type": "markdown",
   "id": "975ac0db",
   "metadata": {},
   "source": [
    "**Case 2:**"
   ]
  },
  {
   "cell_type": "code",
   "execution_count": 36,
   "id": "34d71ab7",
   "metadata": {},
   "outputs": [
    {
     "name": "stdout",
     "output_type": "stream",
     "text": [
      "190.43020836185028\n"
     ]
    }
   ],
   "source": [
    "_, pi = policy_iteration(gridworld)\n",
    "\n",
    "phi = np.eye(gridworld.n_states)  # Feature matrix (one-hot encoding)\n",
    "phi[:50, :] *= 0\n",
    "\n",
    "# Run Monte Carlo policy evaluation with linear function approximation\n",
    "theta_MC = mc_policy_evaluation_with_linear_approx(\n",
    "    pi, phi, K=1000, H=2000, gamma=gridworld.gamma, alpha=1\n",
    ")\n",
    "theta_TD = td_policy_evaluation_with_linear_approx(\n",
    "    pi, phi, K=1000, H=2000, gamma=gridworld.gamma, alpha=1\n",
    ")\n",
    "\n",
    "print(np.linalg.norm(theta_MC - theta_TD))"
   ]
  },
  {
   "cell_type": "markdown",
   "id": "319622a5",
   "metadata": {},
   "source": [
    "**Answers**\n"
   ]
  },
  {
   "cell_type": "markdown",
   "id": "955529c8",
   "metadata": {},
   "source": [
    "**Questions:** \n",
    "- Does the solution coincide ( up to numerical error ) in Case 2?\n",
    "- Explain your answer leveraging the analytical solutions of the optimal solutions of the Monte Carlo and TD optimization problem $\\theta^\\star_{MC}$ and $\\theta^\\star_{TD}$ and argue why these are equal or different in this case."
   ]
  },
  {
   "cell_type": "markdown",
   "id": "74329227",
   "metadata": {},
   "source": [
    "- The solutions here do not coincide (190.43020836185028 of difference)\n",
    "\n",
    "---\n",
    "phi[:50, :] *= 0\n",
    "That line sets the first 50 rows of the one‐hot feature matrix 𝜙to zero. Concretely, for states 0 through 49, the feature vector becomes all zeros instead of a one‐hot vector. As a result, those states are no longer represented by their own features, so the linear function approximator cannot fit their values correctly (it has no way of distinguishing one state among those first 50).\n",
    "We have a “defective” or “misspecified” representation in which some states have zeroed‐out features. Monte Carlo (MC) and TD learning converge to different solutions."
   ]
  }
 ],
 "metadata": {
  "author": "",
  "kernelspec": {
   "display_name": "venv_RL",
   "language": "python",
   "name": "python3"
  },
  "language_info": {
   "codemirror_mode": {
    "name": "ipython",
    "version": 3
   },
   "file_extension": ".py",
   "mimetype": "text/x-python",
   "name": "python",
   "nbconvert_exporter": "python",
   "pygments_lexer": "ipython3",
   "version": "3.9.0"
  },
  "latex_envs": {
   "LaTeX_envs_menu_present": true,
   "autoclose": false,
   "autocomplete": true,
   "bibliofile": "biblio.bib",
   "cite_by": "apalike",
   "current_citInitial": 1,
   "eqLabelWithNumbers": true,
   "eqNumInitial": 1,
   "hotkeys": {
    "equation": "Ctrl-E",
    "itemize": "Ctrl-I"
   },
   "labels_anchors": false,
   "latex_user_defs": false,
   "report_style_numbering": false,
   "user_envs_cfg": false
  },
  "toc": {
   "base_numbering": 1,
   "nav_menu": {},
   "number_sections": true,
   "sideBar": true,
   "skip_h1_title": false,
   "title_cell": "Table of Contents",
   "title_sidebar": "Contents",
   "toc_cell": false,
   "toc_position": {},
   "toc_section_display": true,
   "toc_window_display": false
  },
  "varInspector": {
   "cols": {
    "lenName": 16,
    "lenType": 16,
    "lenVar": 40
   },
   "kernels_config": {
    "python": {
     "delete_cmd_postfix": "",
     "delete_cmd_prefix": "del ",
     "library": "var_list.py",
     "varRefreshCmd": "print(var_dic_list())"
    },
    "r": {
     "delete_cmd_postfix": ") ",
     "delete_cmd_prefix": "rm(",
     "library": "var_list.r",
     "varRefreshCmd": "cat(var_dic_list()) "
    }
   },
   "types_to_exclude": [
    "module",
    "function",
    "builtin_function_or_method",
    "instance",
    "_Feature"
   ],
   "window_display": false
  }
 },
 "nbformat": 4,
 "nbformat_minor": 5
}
